{
 "cells": [
  {
   "cell_type": "markdown",
   "metadata": {},
   "source": [
    "# LangChain Hub"
   ]
  },
  {
   "cell_type": "code",
   "execution_count": 1,
   "metadata": {},
   "outputs": [
    {
     "data": {
      "text/plain": [
       "True"
      ]
     },
     "execution_count": 1,
     "metadata": {},
     "output_type": "execute_result"
    }
   ],
   "source": [
    "from dotenv import load_dotenv\n",
    "import os\n",
    "\n",
    "load_dotenv()"
   ]
  },
  {
   "cell_type": "markdown",
   "metadata": {},
   "source": [
    "## Get a promt from the Hub..."
   ]
  },
  {
   "cell_type": "code",
   "execution_count": 3,
   "metadata": {},
   "outputs": [
    {
     "name": "stdout",
     "output_type": "stream",
     "text": [
      "input_variables=['profession', 'question'] metadata={'lc_hub_owner': 'efriis', 'lc_hub_repo': 'my-first-prompt', 'lc_hub_commit_hash': '56489e79537fc477d8368e6c9902df15b5e9fe8bc0e4f38dc4b15b65e550077c'} messages=[SystemMessagePromptTemplate(prompt=PromptTemplate(input_variables=['profession'], template='You are an expert {profession} who loves answering questions cheerfully.')), HumanMessagePromptTemplate(prompt=PromptTemplate(input_variables=['question'], template='{question} '))]\n"
     ]
    }
   ],
   "source": [
    "from langchain import hub\n",
    "\n",
    "# pull a chat prompt\n",
    "prompt = hub.pull(\"efriis/my-first-prompt\")\n",
    "print(prompt)"
   ]
  },
  {
   "cell_type": "markdown",
   "metadata": {},
   "source": [
    "...and try it out:"
   ]
  },
  {
   "cell_type": "code",
   "execution_count": 4,
   "metadata": {},
   "outputs": [
    {
     "name": "stdout",
     "output_type": "stream",
     "text": [
      "content='Oh, parrots are amazing creatures with so many unique qualities! One of the most special things about them is their ability to mimic human speech and sounds. They have a complex vocal system that allows them to imitate a wide range of sounds with incredible accuracy. Additionally, parrots are highly intelligent birds known for their problem-solving skills and social nature. They form strong bonds with their owners and have vibrant, colorful plumage that makes them truly stand out in the bird world. Overall, parrots are fascinating and charismatic animals that never fail to capture our attention!' response_metadata={'token_usage': {'completion_tokens': 112, 'prompt_tokens': 31, 'total_tokens': 143}, 'model_name': 'gpt-3.5-turbo', 'system_fingerprint': None, 'finish_reason': 'stop', 'logprobs': None} id='run-4eafe093-c72f-4087-8ebf-d6f48860bcac-0'\n"
     ]
    }
   ],
   "source": [
    "# create a model to use it with\n",
    "from langchain_openai import ChatOpenAI\n",
    "model = ChatOpenAI()\n",
    "\n",
    "# use it in a runnable\n",
    "runnable = prompt | model\n",
    "response = runnable.invoke({\n",
    "\t\"profession\": \"biologist\",\n",
    "\t\"question\": \"What is special about parrots?\",\n",
    "})\n",
    "\n",
    "print(response)"
   ]
  },
  {
   "cell_type": "markdown",
   "metadata": {},
   "source": [
    "now get a more interesting one:"
   ]
  },
  {
   "cell_type": "code",
   "execution_count": 8,
   "metadata": {},
   "outputs": [
    {
     "name": "stdout",
     "output_type": "stream",
     "text": [
      "input_variables=['client_letter', 'format_instructions'] metadata={'lc_hub_owner': 'borislove', 'lc_hub_repo': 'customer-sentiment-analysis', 'lc_hub_commit_hash': '45eafd27466db2b27a448e29132a77a88a53092b7d4ad09838d13ef23908c36f'} messages=[SystemMessagePromptTemplate(prompt=PromptTemplate(input_variables=[], template=\"As a customer service representative, you receive the following email from a customer.\\nYour task is to identify the customer's sentiment and categorize it based on the scale below:\\n    0 - Calm: Customer asks questions but does not seem upset; is just seeking information.\\n    1 - Slightly Frustrated: Customer shows subtle signs of irritation but is still open to solutions.\\n    2 - Frustrated: Customer explicitly states being unhappy or irritated but is willing to discuss a solution.\\n    3 - Very Frustrated: Customer is clearly agitated, uses strong language, or mentions the problem repeatedly.\\n    4 - Extremely Frustrated: Customer is intensely unhappy, may raise their voice or use aggressive language.\\n    5 - Overwhelmed: Customer seems emotionally upset, says things like 'I can't take this anymore' or 'This is the worst experience ever.'\\nIf you cannot identify the sentiment for some reason, simply respond with 'Unknown'\")), HumanMessagePromptTemplate(prompt=PromptTemplate(input_variables=['client_letter', 'format_instructions'], template=\"Letter: \\n'''{client_letter}'''\\n\\n{format_instructions}\"))]\n",
      "content='Sentiment: 4 - Extremely Frustrated' response_metadata={'token_usage': {'completion_tokens': 11, 'prompt_tokens': 235, 'total_tokens': 246}, 'model_name': 'gpt-3.5-turbo', 'system_fingerprint': None, 'finish_reason': 'stop', 'logprobs': None} id='run-fe35f3a0-8148-49e6-b5f4-56ab1823a8c4-0'\n",
      "Sentiment: 4 - Extremely Frustrated\n"
     ]
    }
   ],
   "source": [
    "prompt = hub.pull(\"borislove/customer-sentiment-analysis\")\n",
    "print(prompt)\n",
    "\n",
    "runnable = prompt | model\n",
    "response = runnable.invoke({\n",
    "\t\"client_letter\": \"I cannot cope with your fucking product. I will never buy anything again from you!\",\n",
    "    \"format_instructions\": \"\"\n",
    "})\n",
    "\n",
    "print(response)\n",
    "print(response.content)"
   ]
  },
  {
   "cell_type": "markdown",
   "metadata": {},
   "source": [
    "## Output Parser"
   ]
  },
  {
   "cell_type": "code",
   "execution_count": 16,
   "metadata": {},
   "outputs": [
    {
     "name": "stdout",
     "output_type": "stream",
     "text": [
      "input_variables=['client_letter', 'format_instructions'] metadata={'lc_hub_owner': 'borislove', 'lc_hub_repo': 'customer-sentiment-analysis', 'lc_hub_commit_hash': '45eafd27466db2b27a448e29132a77a88a53092b7d4ad09838d13ef23908c36f'} messages=[SystemMessagePromptTemplate(prompt=PromptTemplate(input_variables=[], template=\"As a customer service representative, you receive the following email from a customer.\\nYour task is to identify the customer's sentiment and categorize it based on the scale below:\\n    0 - Calm: Customer asks questions but does not seem upset; is just seeking information.\\n    1 - Slightly Frustrated: Customer shows subtle signs of irritation but is still open to solutions.\\n    2 - Frustrated: Customer explicitly states being unhappy or irritated but is willing to discuss a solution.\\n    3 - Very Frustrated: Customer is clearly agitated, uses strong language, or mentions the problem repeatedly.\\n    4 - Extremely Frustrated: Customer is intensely unhappy, may raise their voice or use aggressive language.\\n    5 - Overwhelmed: Customer seems emotionally upset, says things like 'I can't take this anymore' or 'This is the worst experience ever.'\\nIf you cannot identify the sentiment for some reason, simply respond with 'Unknown'\")), HumanMessagePromptTemplate(prompt=PromptTemplate(input_variables=['client_letter', 'format_instructions'], template=\"Letter: \\n'''{client_letter}'''\\n\\n{format_instructions}\"))]\n",
      "content='4 - Extremely Frustrated' response_metadata={'token_usage': {'completion_tokens': 7, 'prompt_tokens': 235, 'total_tokens': 242}, 'model_name': 'gpt-4', 'system_fingerprint': None, 'finish_reason': 'stop', 'logprobs': None} id='run-cf70360a-ac2e-4a47-949a-650227f2cf0c-0'\n",
      "EmotionalState.EXTREMELY_FRUSTRATED\n"
     ]
    }
   ],
   "source": [
    "from langchain.output_parsers.enum import EnumOutputParser\n",
    "from enum import Enum\n",
    "\n",
    "#model = ChatOpenAI() # GTP-3 does not return the exact format -> ValueError on parse\n",
    "model = ChatOpenAI(model=\"gpt-4\")\n",
    "\n",
    "class EmotionalState(Enum):\n",
    "    \"\"\"Enum for the emotional state of the client\"\"\"\n",
    "    CALM = \"Calm\"\n",
    "    LIGHTLY_FRUSTRATED = \"Lightly Frustrated\"\n",
    "    FRUSTRATED = \"Frustrated\"\n",
    "    VERY_FRUSTRATED = \"Very Frustrated\"\n",
    "    EXTREMELY_FRUSTRATED = \"4 - Extremely Frustrated\" # otherwise throws an ValueError\n",
    "    OVERWHELMED = \"Overwhelmed\"\n",
    "    UNKNOWN = \"Unknown\"\n",
    "\n",
    "prompt = hub.pull(\"borislove/customer-sentiment-analysis\")\n",
    "print(prompt)\n",
    "\n",
    "runnable = prompt | model\n",
    "response = runnable.invoke({\n",
    "\t\"client_letter\": \"I cannot cope with your fucking product. I will never buy anything again from you!\",\n",
    "    \"format_instructions\": \"\"\n",
    "})\n",
    "\n",
    "parser = EnumOutputParser(enum=EmotionalState)\n",
    "\n",
    "# Parse the response to get the Enum result\n",
    "print(response)\n",
    "result = parser.parse(response.content)\n",
    "print(result)"
   ]
  },
  {
   "cell_type": "markdown",
   "metadata": {},
   "source": [
    "versteht er auch deutsch...?"
   ]
  },
  {
   "cell_type": "code",
   "execution_count": 18,
   "metadata": {},
   "outputs": [
    {
     "name": "stdout",
     "output_type": "stream",
     "text": [
      "content='4 - Extremely Frustrated: Customer is intensely unhappy, may raise their voice or use aggressive language.' response_metadata={'token_usage': {'completion_tokens': 22, 'prompt_tokens': 256, 'total_tokens': 278}, 'model_name': 'gpt-4', 'system_fingerprint': None, 'finish_reason': 'stop', 'logprobs': None} id='run-f148c6b9-7dd9-46fc-adcd-6168ecba579d-0'\n"
     ]
    }
   ],
   "source": [
    "response = runnable.invoke({\n",
    "\t\"client_letter\": \"Ich komme mit ihrem Produkt überhaupt nicht zurecht! Ich bin verzweifelt, dass es so ein schlechtes Produkt ist. Ich würde es nicht mehr kaufen!\",\n",
    "    \"format_instructions\": \"\"\n",
    "})\n",
    "\n",
    "parser = EnumOutputParser(enum=EmotionalState)\n",
    "\n",
    "# Parse the response to get the Enum result\n",
    "print(response)\n",
    "#result = parser.parse(response.content)\n",
    "#print(result)"
   ]
  }
 ],
 "metadata": {
  "kernelspec": {
   "display_name": "Python 3",
   "language": "python",
   "name": "python3"
  },
  "language_info": {
   "codemirror_mode": {
    "name": "ipython",
    "version": 3
   },
   "file_extension": ".py",
   "mimetype": "text/x-python",
   "name": "python",
   "nbconvert_exporter": "python",
   "pygments_lexer": "ipython3",
   "version": "3.12.2"
  }
 },
 "nbformat": 4,
 "nbformat_minor": 2
}
